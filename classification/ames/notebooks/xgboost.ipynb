{
 "cells": [
  {
   "cell_type": "code",
   "execution_count": 17,
   "id": "alike-policy",
   "metadata": {},
   "outputs": [],
   "source": [
    "# Imports\n",
    "from sklearn.model_selection import train_test_split\n",
    "from sklearn.metrics import mean_squared_error\n",
    "from sklearn.pipeline import Pipeline\n",
    "from sklearn.preprocessing import StandardScaler\n",
    "import xgboost as xgb\n",
    "import pandas as pd\n",
    "import numpy as np\n",
    "import matplotlib.pyplot as plt\n",
    "import seaborn as sns"
   ]
  },
  {
   "cell_type": "code",
   "execution_count": 11,
   "id": "induced-symphony",
   "metadata": {},
   "outputs": [],
   "source": [
    "# Load the Ames dataset\n",
    "# Dataset description : https://www.kaggle.com/c/house-prices-advanced-regression-techniques\n",
    "ames = pd.read_csv('../input/ames_unprocessed_data.csv', sep=',')\n",
    "\n",
    "# One Hot encoding\n",
    "ames_oh = pd.get_dummies(ames)\n",
    "\n",
    "# Create arrays for the features and the target: X, y\n",
    "X, y = ames_oh.iloc[:,:-1], ames_oh.iloc[:,-1]\n",
    "\n",
    "# Create the training and test sets\n",
    "X_train, X_test, y_train, y_test= train_test_split(X, y, test_size=0.2, random_state=123)"
   ]
  },
  {
   "cell_type": "code",
   "execution_count": 4,
   "id": "animal-score",
   "metadata": {},
   "outputs": [
    {
     "name": "stdout",
     "output_type": "stream",
     "text": [
      "RMSE: 0.014262\n"
     ]
    }
   ],
   "source": [
    "# Instantiate the XGBRegressor: xg_reg\n",
    "xg_reg = xgb.XGBRegressor(objective='reg:squarederror',n_estimators=10, seed=123)\n",
    "\n",
    "# Fit the regressor to the training set\n",
    "xg_reg.fit(X_train, y_train)\n",
    "\n",
    "# Predict the labels of the test set: preds\n",
    "preds = xg_reg.predict(X_test)\n",
    "\n",
    "# Compute the rmse: rmse\n",
    "rmse = np.sqrt(mean_squared_error(y_test, preds))\n",
    "print(\"RMSE: %f\" % (rmse))"
   ]
  },
  {
   "cell_type": "markdown",
   "id": "colored-shelf",
   "metadata": {},
   "source": [
    "# Using Standardized data"
   ]
  },
  {
   "cell_type": "code",
   "execution_count": 10,
   "id": "bound-kansas",
   "metadata": {},
   "outputs": [
    {
     "name": "stdout",
     "output_type": "stream",
     "text": [
      "RMSE: 0.014262\n"
     ]
    }
   ],
   "source": [
    "steps = [('scaler', StandardScaler()),('xgbr', xgb.XGBRegressor(objective='reg:squarederror',n_estimators=10, seed=123))]\n",
    "pipeline = Pipeline(steps)\n",
    "pipeline.fit(X_train, y_train)\n",
    "preds_bis = pipeline.predict(X_test)\n",
    "rmse_bis = np.sqrt(mean_squared_error(y_test, preds_bis))\n",
    "print(\"RMSE: %f\" % (rmse_bis))"
   ]
  }
 ],
 "metadata": {
  "kernelspec": {
   "display_name": "Python 3",
   "language": "python",
   "name": "python3"
  },
  "language_info": {
   "codemirror_mode": {
    "name": "ipython",
    "version": 3
   },
   "file_extension": ".py",
   "mimetype": "text/x-python",
   "name": "python",
   "nbconvert_exporter": "python",
   "pygments_lexer": "ipython3",
   "version": "3.9.0"
  }
 },
 "nbformat": 4,
 "nbformat_minor": 5
}
