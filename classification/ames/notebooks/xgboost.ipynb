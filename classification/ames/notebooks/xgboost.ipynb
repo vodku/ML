{
 "cells": [
  {
   "cell_type": "code",
   "execution_count": 21,
   "id": "alike-policy",
   "metadata": {},
   "outputs": [],
   "source": [
    "# Imports\n",
    "from sklearn.model_selection import train_test_split, GridSearchCV\n",
    "from sklearn.metrics import mean_squared_error\n",
    "from sklearn.pipeline import Pipeline\n",
    "from sklearn.preprocessing import StandardScaler\n",
    "import xgboost as xgb\n",
    "import pandas as pd\n",
    "import numpy as np\n",
    "import matplotlib.pyplot as plt\n",
    "import seaborn as sns"
   ]
  },
  {
   "cell_type": "code",
   "execution_count": 11,
   "id": "induced-symphony",
   "metadata": {},
   "outputs": [],
   "source": [
    "# Load the Ames dataset\n",
    "# Dataset description : https://www.kaggle.com/c/house-prices-advanced-regression-techniques\n",
    "housing_data = pd.read_csv('../input/ames_unprocessed_data.csv', sep=',')\n",
    "\n",
    "# One Hot encoding\n",
    "housing_data_oh = pd.get_dummies(housing_data)\n",
    "\n",
    "# Create arrays for the features and the target: X, y\n",
    "X, y = housing_data_oh.iloc[:,:-1], housing_data_oh.iloc[:,-1]\n",
    "\n",
    "# Create the training and test sets\n",
    "X_train, X_test, y_train, y_test= train_test_split(X, y, test_size=0.2, random_state=123)"
   ]
  },
  {
   "cell_type": "code",
   "execution_count": 4,
   "id": "animal-score",
   "metadata": {},
   "outputs": [
    {
     "name": "stdout",
     "output_type": "stream",
     "text": [
      "RMSE: 0.014262\n"
     ]
    }
   ],
   "source": [
    "# Instantiate the XGBRegressor: xg_reg\n",
    "xg_reg = xgb.XGBRegressor(objective='reg:squarederror',n_estimators=10, seed=123)\n",
    "\n",
    "# Fit the regressor to the training set\n",
    "xg_reg.fit(X_train, y_train)\n",
    "\n",
    "# Predict the labels of the test set: preds\n",
    "preds = xg_reg.predict(X_test)\n",
    "\n",
    "# Compute the rmse: rmse\n",
    "rmse = np.sqrt(mean_squared_error(y_test, preds))\n",
    "print(\"RMSE: %f\" % (rmse))"
   ]
  },
  {
   "cell_type": "markdown",
   "id": "informative-vessel",
   "metadata": {},
   "source": [
    "### Using Standardized data"
   ]
  },
  {
   "cell_type": "code",
   "execution_count": 10,
   "id": "outside-springfield",
   "metadata": {},
   "outputs": [
    {
     "name": "stdout",
     "output_type": "stream",
     "text": [
      "RMSE: 0.014262\n"
     ]
    }
   ],
   "source": [
    "steps = [('scaler', StandardScaler()),('xgbr', xgb.XGBRegressor(objective='reg:squarederror',n_estimators=10, seed=123))]\n",
    "pipeline = Pipeline(steps)\n",
    "pipeline.fit(X_train, y_train)\n",
    "preds_bis = pipeline.predict(X_test)\n",
    "rmse_bis = np.sqrt(mean_squared_error(y_test, preds_bis))\n",
    "print(\"RMSE: %f\" % (rmse_bis))"
   ]
  },
  {
   "cell_type": "markdown",
   "id": "respiratory-first",
   "metadata": {},
   "source": [
    "### Hyperparameters tunning"
   ]
  },
  {
   "cell_type": "code",
   "execution_count": 24,
   "id": "varying-minority",
   "metadata": {},
   "outputs": [
    {
     "name": "stdout",
     "output_type": "stream",
     "text": [
      "Fitting 4 folds for each of 12 candidates, totalling 48 fits\n",
      "Best parameters found:  {'learning_rate': 0.9, 'n_estimators': 200, 'subsample': 0.9}\n",
      "Lowest RMSE found:  7.182564023155264e-06\n"
     ]
    }
   ],
   "source": [
    "# GridSearch\n",
    "housing_dmatrix = xgb.DMatrix(data=X_train, label=y_train)\n",
    "gbm_param_grid = {\n",
    "    \"learning_rate\": [0.01, 0.1, 0.5, 0.9],\n",
    "    \"n_estimators\": [200],\n",
    "    \"subsample\": [0.3, 0.5, 0.9]}\n",
    "gbm = xgb.XGBRegressor()\n",
    "grid_mse = GridSearchCV(estimator=gbm, param_grid=gbm_param_grid, scoring='neg_mean_squared_error', cv=4, verbose=1)\n",
    "grid_mse.fit(X_train, y_train)\n",
    "print(\"Best parameters found: \", grid_mse.best_params_)\n",
    "print(\"Lowest RMSE found: \", np.sqrt(np.abs(grid_mse.best_score_)))"
   ]
  },
  {
   "cell_type": "code",
   "execution_count": null,
   "id": "computational-soccer",
   "metadata": {},
   "outputs": [],
   "source": []
  }
 ],
 "metadata": {
  "kernelspec": {
   "display_name": "Python 3",
   "language": "python",
   "name": "python3"
  },
  "language_info": {
   "codemirror_mode": {
    "name": "ipython",
    "version": 3
   },
   "file_extension": ".py",
   "mimetype": "text/x-python",
   "name": "python",
   "nbconvert_exporter": "python",
   "pygments_lexer": "ipython3",
   "version": "3.9.0"
  }
 },
 "nbformat": 4,
 "nbformat_minor": 5
}
